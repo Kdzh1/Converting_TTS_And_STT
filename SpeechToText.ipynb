{
 "cells": [
  {
   "cell_type": "code",
   "execution_count": 11,
   "id": "dc91689b",
   "metadata": {},
   "outputs": [
    {
     "name": "stdout",
     "output_type": "stream",
     "text": [
      "Requirement already satisfied: ibm_watson in c:\\users\\khali\\mambaforge\\lib\\site-packages (5.2.2)\n",
      "Requirement already satisfied: requests<3.0,>=2.0 in c:\\users\\khali\\mambaforge\\lib\\site-packages (from ibm_watson) (2.25.1)\n",
      "Requirement already satisfied: websocket-client==1.1.0 in c:\\users\\khali\\mambaforge\\lib\\site-packages (from ibm_watson) (1.1.0)\n",
      "Requirement already satisfied: python-dateutil>=2.5.3 in c:\\users\\khali\\appdata\\roaming\\python\\python39\\site-packages (from ibm_watson) (2.8.1)\n",
      "Requirement already satisfied: ibm-cloud-sdk-core==3.*,>=3.3.6 in c:\\users\\khali\\mambaforge\\lib\\site-packages (from ibm_watson) (3.10.1)\n",
      "Requirement already satisfied: PyJWT<3.0.0,>=2.0.1 in c:\\users\\khali\\mambaforge\\lib\\site-packages (from ibm-cloud-sdk-core==3.*,>=3.3.6->ibm_watson) (2.1.0)\n",
      "Requirement already satisfied: six>=1.5 in c:\\users\\khali\\appdata\\roaming\\python\\python39\\site-packages (from python-dateutil>=2.5.3->ibm_watson) (1.16.0)\n",
      "Requirement already satisfied: urllib3<1.27,>=1.21.1 in c:\\users\\khali\\mambaforge\\lib\\site-packages (from requests<3.0,>=2.0->ibm_watson) (1.26.6)\n",
      "Requirement already satisfied: idna<3,>=2.5 in c:\\users\\khali\\mambaforge\\lib\\site-packages (from requests<3.0,>=2.0->ibm_watson) (2.10)\n",
      "Requirement already satisfied: certifi>=2017.4.17 in c:\\users\\khali\\mambaforge\\lib\\site-packages (from requests<3.0,>=2.0->ibm_watson) (2021.5.30)\n",
      "Requirement already satisfied: chardet<5,>=3.0.2 in c:\\users\\khali\\mambaforge\\lib\\site-packages (from requests<3.0,>=2.0->ibm_watson) (4.0.0)\n",
      "Note: you may need to restart the kernel to use updated packages.\n"
     ]
    }
   ],
   "source": [
    "pip install ibm_watson"
   ]
  },
  {
   "cell_type": "code",
   "execution_count": 12,
   "id": "27b20e9f",
   "metadata": {},
   "outputs": [
    {
     "name": "stdout",
     "output_type": "stream",
     "text": [
      "Requirement already satisfied: ibm_cloud_sdk_core in c:\\users\\khali\\mambaforge\\lib\\site-packages (3.10.1)\n",
      "Requirement already satisfied: requests<3.0,>=2.20 in c:\\users\\khali\\mambaforge\\lib\\site-packages (from ibm_cloud_sdk_core) (2.25.1)\n",
      "Requirement already satisfied: python-dateutil<3.0.0,>=2.5.3 in c:\\users\\khali\\appdata\\roaming\\python\\python39\\site-packages (from ibm_cloud_sdk_core) (2.8.1)\n",
      "Requirement already satisfied: PyJWT<3.0.0,>=2.0.1 in c:\\users\\khali\\mambaforge\\lib\\site-packages (from ibm_cloud_sdk_core) (2.1.0)\n",
      "Requirement already satisfied: six>=1.5 in c:\\users\\khali\\appdata\\roaming\\python\\python39\\site-packages (from python-dateutil<3.0.0,>=2.5.3->ibm_cloud_sdk_core) (1.16.0)\n",
      "Requirement already satisfied: chardet<5,>=3.0.2 in c:\\users\\khali\\mambaforge\\lib\\site-packages (from requests<3.0,>=2.20->ibm_cloud_sdk_core) (4.0.0)\n",
      "Requirement already satisfied: certifi>=2017.4.17 in c:\\users\\khali\\mambaforge\\lib\\site-packages (from requests<3.0,>=2.20->ibm_cloud_sdk_core) (2021.5.30)\n",
      "Requirement already satisfied: idna<3,>=2.5 in c:\\users\\khali\\mambaforge\\lib\\site-packages (from requests<3.0,>=2.20->ibm_cloud_sdk_core) (2.10)\n",
      "Requirement already satisfied: urllib3<1.27,>=1.21.1 in c:\\users\\khali\\mambaforge\\lib\\site-packages (from requests<3.0,>=2.20->ibm_cloud_sdk_core) (1.26.6)\n",
      "Note: you may need to restart the kernel to use updated packages.\n"
     ]
    }
   ],
   "source": [
    "pip install ibm_cloud_sdk_core"
   ]
  },
  {
   "cell_type": "code",
   "execution_count": 13,
   "id": "ce65339b",
   "metadata": {},
   "outputs": [],
   "source": [
    "from ibm_watson import SpeechToTextV1"
   ]
  },
  {
   "cell_type": "code",
   "execution_count": 14,
   "id": "9371a88b",
   "metadata": {},
   "outputs": [],
   "source": [
    "from ibm_cloud_sdk_core.authenticators import IAMAuthenticator"
   ]
  },
  {
   "cell_type": "code",
   "execution_count": 15,
   "id": "5c3aa8c7",
   "metadata": {},
   "outputs": [],
   "source": [
    "api = IAMAuthenticator(\"-C-9gTPbDynn_HNB0iEyM-ws8icNe6G73C5hXGgNkKfk\")"
   ]
  },
  {
   "cell_type": "code",
   "execution_count": 16,
   "id": "28f127e0",
   "metadata": {},
   "outputs": [],
   "source": [
    "speech_2_text = SpeechToTextV1(authenticator=api)\n"
   ]
  },
  {
   "cell_type": "code",
   "execution_count": 17,
   "id": "58f13403",
   "metadata": {},
   "outputs": [],
   "source": [
    "speech_2_text.set_service_url(\"https://api.us-south.speech-to-text.watson.cloud.ibm.com/instances/3f499819-e7fa-45f1-abdf-8147b8f43208\")"
   ]
  },
  {
   "cell_type": "code",
   "execution_count": 18,
   "id": "a9d97230",
   "metadata": {},
   "outputs": [],
   "source": [
    "with open(\"Demo.mp3\",\"rb\") as audio_file:\n",
    "    result = speech_2_text.recognize(\n",
    "    audio= audio_file, content_type=\"audio/mp3\"\n",
    "    ).get_result()"
   ]
  },
  {
   "cell_type": "code",
   "execution_count": 23,
   "id": "c51610a7",
   "metadata": {},
   "outputs": [],
   "source": [
    "import json\n",
    "res = json.dumps(result)"
   ]
  },
  {
   "cell_type": "code",
   "execution_count": 25,
   "id": "9c5b0d97",
   "metadata": {},
   "outputs": [],
   "source": [
    "with open(\"Output.txt\", \"w\") as f: \n",
    "    f.write(res)\n",
    "    f.close()"
   ]
  },
  {
   "cell_type": "code",
   "execution_count": null,
   "id": "f86e13d4",
   "metadata": {},
   "outputs": [],
   "source": []
  }
 ],
 "metadata": {
  "kernelspec": {
   "display_name": "Python 3 (ipykernel)",
   "language": "python",
   "name": "python3"
  },
  "language_info": {
   "codemirror_mode": {
    "name": "ipython",
    "version": 3
   },
   "file_extension": ".py",
   "mimetype": "text/x-python",
   "name": "python",
   "nbconvert_exporter": "python",
   "pygments_lexer": "ipython3",
   "version": "3.9.5"
  }
 },
 "nbformat": 4,
 "nbformat_minor": 5
}
